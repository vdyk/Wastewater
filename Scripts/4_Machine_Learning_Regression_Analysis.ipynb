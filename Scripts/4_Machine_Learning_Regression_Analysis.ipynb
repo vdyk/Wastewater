{
 "cells": [
  {
   "cell_type": "markdown",
   "metadata": {},
   "source": [
    "# 00. Table of contents\n",
    "\n",
    "- Importing libraries and data\n",
    "- Data cleaning\n",
    "- Data prep for regression analysis\n",
    "- Regression analysis: GDP per Capita vs. Daily mean of drug residue in wastewater"
   ]
  },
  {
   "cell_type": "markdown",
   "metadata": {},
   "source": [
    "# 01. Importing libraries and data"
   ]
  },
  {
   "cell_type": "code",
   "execution_count": 55,
   "metadata": {},
   "outputs": [],
   "source": [
    "#importing libraries\n",
    "import pandas as pd\n",
    "import numpy as np\n",
    "import seaborn as sns\n",
    "import matplotlib\n",
    "import matplotlib.pyplot as plt\n",
    "import os\n",
    "import sklearn\n",
    "from sklearn.model_selection import train_test_split \n",
    "from sklearn.linear_model import LinearRegression\n",
    "from sklearn.metrics import mean_squared_error, r2_score"
   ]
  },
  {
   "cell_type": "code",
   "execution_count": 56,
   "metadata": {},
   "outputs": [],
   "source": [
    "# ensuring that the graphs created are displayed within the notebook without the need to \"call\" them specifically\n",
    "%matplotlib inline"
   ]
  },
  {
   "cell_type": "code",
   "execution_count": 57,
   "metadata": {},
   "outputs": [],
   "source": [
    "#importing dataset\n",
    "path = r'C:\\Users\\viki\\Documents\\Data Analytics\\Immersion\\Achievement 6\\02_Data'\n",
    "df= pd.read_csv(os.path.join(path, 'Prepared_Data', 'merged_cleaned_dataset_with_gdp.csv'))"
   ]
  },
  {
   "cell_type": "markdown",
   "metadata": {},
   "source": [
    "# 02. Data Cleaning"
   ]
  },
  {
   "cell_type": "code",
   "execution_count": 58,
   "metadata": {},
   "outputs": [
    {
     "data": {
      "text/plain": [
       "Index(['year', 'metabolite', 'SiteID', 'Country', 'City', 'Wednesday',\n",
       "       'Thursday', 'Friday', 'Saturday', 'Sunday', 'Monday', 'Tuesday',\n",
       "       'Weekday mean', 'Weekend mean', 'Daily mean', 'latitude', 'longitude',\n",
       "       'population', 'Country Name', 'GDP per Capita(USD)', 'GDP category'],\n",
       "      dtype='object')"
      ]
     },
     "execution_count": 58,
     "metadata": {},
     "output_type": "execute_result"
    }
   ],
   "source": [
    "df.columns"
   ]
  },
  {
   "cell_type": "code",
   "execution_count": 59,
   "metadata": {},
   "outputs": [
    {
     "data": {
      "text/plain": [
       "(2569, 21)"
      ]
     },
     "execution_count": 59,
     "metadata": {},
     "output_type": "execute_result"
    }
   ],
   "source": [
    "df.shape"
   ]
  },
  {
   "cell_type": "code",
   "execution_count": 60,
   "metadata": {},
   "outputs": [
    {
     "data": {
      "text/plain": [
       "year                     0\n",
       "metabolite               0\n",
       "SiteID                   0\n",
       "Country                  0\n",
       "City                     0\n",
       "Wednesday               18\n",
       "Thursday                46\n",
       "Friday                  32\n",
       "Saturday                23\n",
       "Sunday                  36\n",
       "Monday                  36\n",
       "Tuesday                 34\n",
       "Weekday mean             1\n",
       "Weekend mean             0\n",
       "Daily mean               0\n",
       "latitude                 0\n",
       "longitude                0\n",
       "population               0\n",
       "Country Name           344\n",
       "GDP per Capita(USD)    344\n",
       "GDP category           344\n",
       "dtype: int64"
      ]
     },
     "execution_count": 60,
     "metadata": {},
     "output_type": "execute_result"
    }
   ],
   "source": [
    "df.isnull().sum()"
   ]
  },
  {
   "cell_type": "code",
   "execution_count": 61,
   "metadata": {},
   "outputs": [],
   "source": [
    "# we will conduct regression analysis for Daily mean vs. GDP per Capita\n",
    "# GDP data for year 2021 was not available, so we remove those observations\n",
    "df.dropna(subset= ['GDP per Capita(USD)'], inplace=True) "
   ]
  },
  {
   "cell_type": "code",
   "execution_count": 62,
   "metadata": {},
   "outputs": [
    {
     "data": {
      "text/plain": [
       "year                    0\n",
       "metabolite              0\n",
       "SiteID                  0\n",
       "Country                 0\n",
       "City                    0\n",
       "Wednesday              12\n",
       "Thursday               19\n",
       "Friday                 28\n",
       "Saturday               19\n",
       "Sunday                 32\n",
       "Monday                 32\n",
       "Tuesday                22\n",
       "Weekday mean            0\n",
       "Weekend mean            0\n",
       "Daily mean              0\n",
       "latitude                0\n",
       "longitude               0\n",
       "population              0\n",
       "Country Name            0\n",
       "GDP per Capita(USD)     0\n",
       "GDP category            0\n",
       "dtype: int64"
      ]
     },
     "execution_count": 62,
     "metadata": {},
     "output_type": "execute_result"
    }
   ],
   "source": [
    "df.isnull().sum()"
   ]
  },
  {
   "cell_type": "markdown",
   "metadata": {},
   "source": [
    "We will explore the relationship of the variables \"GDP per Capita\" and \"Daily mean\". We cleaned the missing values from the first variable. The \"daily mean\" has several 0 values but this is a valid value: values below the method limit of quantification of residues are indicated as zero."
   ]
  },
  {
   "cell_type": "code",
   "execution_count": 63,
   "metadata": {},
   "outputs": [
    {
     "data": {
      "text/plain": [
       "(2225, 21)"
      ]
     },
     "execution_count": 63,
     "metadata": {},
     "output_type": "execute_result"
    }
   ],
   "source": [
    "df.shape"
   ]
  },
  {
   "cell_type": "code",
   "execution_count": 65,
   "metadata": {},
   "outputs": [],
   "source": [
    "#checking for duplicates\n",
    "dups = df.duplicated()\n"
   ]
  },
  {
   "cell_type": "code",
   "execution_count": 66,
   "metadata": {},
   "outputs": [
    {
     "data": {
      "text/plain": [
       "(2225,)"
      ]
     },
     "execution_count": 66,
     "metadata": {},
     "output_type": "execute_result"
    }
   ],
   "source": [
    "dups.shape # No dups"
   ]
  },
  {
   "cell_type": "code",
   "execution_count": 67,
   "metadata": {},
   "outputs": [
    {
     "name": "stderr",
     "output_type": "stream",
     "text": [
      "C:\\Users\\viki\\AppData\\Local\\Packages\\PythonSoftwareFoundation.Python.3.9_qbz5n2kfra8p0\\LocalCache\\local-packages\\Python39\\site-packages\\seaborn\\distributions.py:2619: FutureWarning: `distplot` is a deprecated function and will be removed in a future version. Please adapt your code to use either `displot` (a figure-level function with similar flexibility) or `histplot` (an axes-level function for histograms).\n",
      "  warnings.warn(msg, FutureWarning)\n"
     ]
    },
    {
     "data": {
      "text/plain": [
       "<AxesSubplot:xlabel='Daily mean', ylabel='Density'>"
      ]
     },
     "execution_count": 67,
     "metadata": {},
     "output_type": "execute_result"
    },
    {
     "data": {
      "image/png": "[encoded data removed]",
      "text/plain": [
       "<Figure size 432x288 with 1 Axes>"
      ]
     },
     "metadata": {
      "needs_background": "light"
     },
     "output_type": "display_data"
    }
   ],
   "source": [
    "#extreme values check\n",
    "sns.distplot(df['Daily mean'], bins=25)\n"
   ]
  },
  {
   "cell_type": "code",
   "execution_count": 68,
   "metadata": {},
   "outputs": [
    {
     "data": {
      "text/plain": [
       "88.60574831460673"
      ]
     },
     "execution_count": 68,
     "metadata": {},
     "output_type": "execute_result"
    }
   ],
   "source": [
    "df['Daily mean'].mean() # Check the mean"
   ]
  },
  {
   "cell_type": "code",
   "execution_count": 69,
   "metadata": {},
   "outputs": [
    {
     "data": {
      "text/plain": [
       "25.67"
      ]
     },
     "execution_count": 69,
     "metadata": {},
     "output_type": "execute_result"
    }
   ],
   "source": [
    "df['Daily mean'].median() # Check the median"
   ]
  },
  {
   "cell_type": "code",
   "execution_count": 70,
   "metadata": {},
   "outputs": [
    {
     "data": {
      "text/plain": [
       "1275.66"
      ]
     },
     "execution_count": 70,
     "metadata": {},
     "output_type": "execute_result"
    }
   ],
   "source": [
    "df['Daily mean'].max() # Check the max value"
   ]
  },
  {
   "cell_type": "markdown",
   "metadata": {},
   "source": [
    "We do have extreme values but we wont remove them as these are valid measured values. We will conduct the regression analysis with these included."
   ]
  },
  {
   "cell_type": "markdown",
   "metadata": {},
   "source": [
    "# 03. Data prep for regression analysis "
   ]
  },
  {
   "cell_type": "code",
   "execution_count": 71,
   "metadata": {},
   "outputs": [
    {
     "data": {
      "image/png": "[encoded data removed]",
      "text/plain": [
       "<Figure size 432x288 with 1 Axes>"
      ]
     },
     "metadata": {
      "needs_background": "light"
     },
     "output_type": "display_data"
    }
   ],
   "source": [
    "# Creating a scatterplot using matplotlib \n",
    "\n",
    "df.plot(x = 'GDP per Capita(USD)', y='Daily mean',style='o')\n",
    "plt.title('GDP per Capita vs Daily mean of drug residue')  \n",
    "plt.xlabel('GDP per Capita(USD)')  \n",
    "plt.ylabel('Daily mean')  \n",
    "plt.show()"
   ]
  },
  {
   "cell_type": "markdown",
   "metadata": {},
   "source": [
    "We explored a weak relationship in the earlier exercise between these two variables and we form now the following hypothesis:\n",
    "If a country have a higher income (GDP per Capita) then the drug usage increases (daily mean of measured drug residue)"
   ]
  },
  {
   "cell_type": "code",
   "execution_count": 75,
   "metadata": {},
   "outputs": [],
   "source": [
    "# Reshaping the variables into NumPy arrays and putting them into separate objects.\n",
    "X = df['GDP per Capita(USD)'].values.reshape(-1,1)\n",
    "y = df['Daily mean'].values.reshape(-1,1)"
   ]
  },
  {
   "cell_type": "code",
   "execution_count": 76,
   "metadata": {},
   "outputs": [
    {
     "data": {
      "text/plain": [
       "array([[48588.65938],\n",
       "       [48588.65938],\n",
       "       [48588.65938],\n",
       "       ...,\n",
       "       [60755.75955],\n",
       "       [60755.75955],\n",
       "       [60755.75955]])"
      ]
     },
     "execution_count": 76,
     "metadata": {},
     "output_type": "execute_result"
    }
   ],
   "source": [
    "X"
   ]
  },
  {
   "cell_type": "code",
   "execution_count": 77,
   "metadata": {},
   "outputs": [
    {
     "data": {
      "text/plain": [
       "array([[ 29.27],\n",
       "       [ 50.69],\n",
       "       [138.22],\n",
       "       ...,\n",
       "       [  2.63],\n",
       "       [  0.  ],\n",
       "       [  2.93]])"
      ]
     },
     "execution_count": 77,
     "metadata": {},
     "output_type": "execute_result"
    }
   ],
   "source": [
    "y"
   ]
  },
  {
   "cell_type": "code",
   "execution_count": 78,
   "metadata": {},
   "outputs": [],
   "source": [
    "# Splitting data into a training set and a test set\n",
    "X_train, X_test, y_train, y_test = train_test_split(X, y, test_size=0.3, random_state=0)"
   ]
  },
  {
   "cell_type": "markdown",
   "metadata": {},
   "source": [
    "# 03. Regression analysis"
   ]
  },
  {
   "cell_type": "code",
   "execution_count": 79,
   "metadata": {},
   "outputs": [],
   "source": [
    "# Creating a regression object\n",
    "regression = LinearRegression()"
   ]
  },
  {
   "cell_type": "code",
   "execution_count": 80,
   "metadata": {},
   "outputs": [
    {
     "data": {
      "text/html": [
       "<style>#sk-container-id-2 {color: black;background-color: white;}#sk-container-id-2 pre{padding: 0;}#sk-container-id-2 div.sk-toggleable {background-color: white;}#sk-container-id-2 label.sk-toggleable__label {cursor: pointer;display: block;width: 100%;margin-bottom: 0;padding: 0.3em;box-sizing: border-box;text-align: center;}#sk-container-id-2 label.sk-toggleable__label-arrow:before {content: \"▸\";float: left;margin-right: 0.25em;color: #696969;}#sk-container-id-2 label.sk-toggleable__label-arrow:hover:before {color: black;}#sk-container-id-2 div.sk-estimator:hover label.sk-toggleable__label-arrow:before {color: black;}#sk-container-id-2 div.sk-toggleable__content {max-height: 0;max-width: 0;overflow: hidden;text-align: left;background-color: #f0f8ff;}#sk-container-id-2 div.sk-toggleable__content pre {margin: 0.2em;color: black;border-radius: 0.25em;background-color: #f0f8ff;}#sk-container-id-2 input.sk-toggleable__control:checked~div.sk-toggleable__content {max-height: 200px;max-width: 100%;overflow: auto;}#sk-container-id-2 input.sk-toggleable__control:checked~label.sk-toggleable__label-arrow:before {content: \"▾\";}#sk-container-id-2 div.sk-estimator input.sk-toggleable__control:checked~label.sk-toggleable__label {background-color: #d4ebff;}#sk-container-id-2 div.sk-label input.sk-toggleable__control:checked~label.sk-toggleable__label {background-color: #d4ebff;}#sk-container-id-2 input.sk-hidden--visually {border: 0;clip: rect(1px 1px 1px 1px);clip: rect(1px, 1px, 1px, 1px);height: 1px;margin: -1px;overflow: hidden;padding: 0;position: absolute;width: 1px;}#sk-container-id-2 div.sk-estimator {font-family: monospace;background-color: #f0f8ff;border: 1px dotted black;border-radius: 0.25em;box-sizing: border-box;margin-bottom: 0.5em;}#sk-container-id-2 div.sk-estimator:hover {background-color: #d4ebff;}#sk-container-id-2 div.sk-parallel-item::after {content: \"\";width: 100%;border-bottom: 1px solid gray;flex-grow: 1;}#sk-container-id-2 div.sk-label:hover label.sk-toggleable__label {background-color: #d4ebff;}#sk-container-id-2 div.sk-serial::before {content: \"\";position: absolute;border-left: 1px solid gray;box-sizing: border-box;top: 0;bottom: 0;left: 50%;z-index: 0;}#sk-container-id-2 div.sk-serial {display: flex;flex-direction: column;align-items: center;background-color: white;padding-right: 0.2em;padding-left: 0.2em;position: relative;}#sk-container-id-2 div.sk-item {position: relative;z-index: 1;}#sk-container-id-2 div.sk-parallel {display: flex;align-items: stretch;justify-content: center;background-color: white;position: relative;}#sk-container-id-2 div.sk-item::before, #sk-container-id-2 div.sk-parallel-item::before {content: \"\";position: absolute;border-left: 1px solid gray;box-sizing: border-box;top: 0;bottom: 0;left: 50%;z-index: -1;}#sk-container-id-2 div.sk-parallel-item {display: flex;flex-direction: column;z-index: 1;position: relative;background-color: white;}#sk-container-id-2 div.sk-parallel-item:first-child::after {align-self: flex-end;width: 50%;}#sk-container-id-2 div.sk-parallel-item:last-child::after {align-self: flex-start;width: 50%;}#sk-container-id-2 div.sk-parallel-item:only-child::after {width: 0;}#sk-container-id-2 div.sk-dashed-wrapped {border: 1px dashed gray;margin: 0 0.4em 0.5em 0.4em;box-sizing: border-box;padding-bottom: 0.4em;background-color: white;}#sk-container-id-2 div.sk-label label {font-family: monospace;font-weight: bold;display: inline-block;line-height: 1.2em;}#sk-container-id-2 div.sk-label-container {text-align: center;}#sk-container-id-2 div.sk-container {/* jupyter's `normalize.less` sets `[hidden] { display: none; }` but bootstrap.min.css set `[hidden] { display: none !important; }` so we also need the `!important` here to be able to override the default hidden behavior on the sphinx rendered scikit-learn.org. See: https://github.com/scikit-learn/scikit-learn/issues/21755 */display: inline-block !important;position: relative;}#sk-container-id-2 div.sk-text-repr-fallback {display: none;}</style><div id=\"sk-container-id-2\" class=\"sk-top-container\"><div class=\"sk-text-repr-fallback\"><pre>LinearRegression()</pre><b>In a Jupyter environment, please rerun this cell to show the HTML representation or trust the notebook. <br />On GitHub, the HTML representation is unable to render, please try loading this page with nbviewer.org.</b></div><div class=\"sk-container\" hidden><div class=\"sk-item\"><div class=\"sk-estimator sk-toggleable\"><input class=\"sk-toggleable__control sk-hidden--visually\" id=\"sk-estimator-id-2\" type=\"checkbox\" checked><label for=\"sk-estimator-id-2\" class=\"sk-toggleable__label sk-toggleable__label-arrow\">LinearRegression</label><div class=\"sk-toggleable__content\"><pre>LinearRegression()</pre></div></div></div></div></div>"
      ],
      "text/plain": [
       "LinearRegression()"
      ]
     },
     "execution_count": 80,
     "metadata": {},
     "output_type": "execute_result"
    }
   ],
   "source": [
    "# Fitting the regression object onto the training set\n",
    "regression.fit(X_train, y_train)"
   ]
  },
  {
   "cell_type": "code",
   "execution_count": 81,
   "metadata": {},
   "outputs": [],
   "source": [
    "# Predicting the values of y using X\n",
    "y_predicted = regression.predict(X_test)"
   ]
  },
  {
   "cell_type": "code",
   "execution_count": 82,
   "metadata": {},
   "outputs": [
    {
     "data": {
      "image/png": "[encoded data removed]",
      "text/plain": [
       "<Figure size 432x288 with 1 Axes>"
      ]
     },
     "metadata": {
      "needs_background": "light"
     },
     "output_type": "display_data"
    }
   ],
   "source": [
    "# Creating a plot that shows the regression line from the model on the test set.\n",
    "plot_test = plt\n",
    "plot_test.scatter(X_test, y_test, color='gray', s = 15)\n",
    "plot_test.plot(X_test, y_predicted, color='red', linewidth =3)\n",
    "plot_test.title('GDP per Capita(USD) vs. Daily mean drug residues (Test set)')\n",
    "plot_test.xlabel('GDP per Capita(USD)')\n",
    "plot_test.ylabel('Daily mean')\n",
    "plot_test.show()"
   ]
  },
  {
   "cell_type": "markdown",
   "metadata": {},
   "source": [
    "Here we can see the weak positive relationship, the trend line isn’t very steep, and there are many points far away from this line: there’s a great degree of variability. Our model does not seem to be a great fit."
   ]
  },
  {
   "cell_type": "code",
   "execution_count": 83,
   "metadata": {},
   "outputs": [],
   "source": [
    "# Creating objects that contain the model summary statistics.\n",
    "rmse = mean_squared_error(y_test, y_predicted) \n",
    "r2 = r2_score(y_test, y_predicted) "
   ]
  },
  {
   "cell_type": "code",
   "execution_count": 84,
   "metadata": {},
   "outputs": [
    {
     "name": "stdout",
     "output_type": "stream",
     "text": [
      "Slope: [[0.00120919]]\n",
      "Mean squared error:  23017.1828235203\n",
      "R2 score:  0.0033108054621578953\n"
     ]
    }
   ],
   "source": [
    "# Printing the model summary statistics\n",
    "print('Slope:' ,regression.coef_)\n",
    "print('Mean squared error: ', rmse)\n",
    "print('R2 score: ', r2)"
   ]
  },
  {
   "cell_type": "markdown",
   "metadata": {},
   "source": [
    "The summary statistics also suggest our model not being a good fit.\n",
    "- slope is almost zero: meaning if GDP rises, daily mean drug residue hardly increases.\n",
    "- Mean squared error is huge: regression line is not close to the datapoints, meaning it is not accurate\n",
    "- R2: almost zero also suggesting a very poor fit"
   ]
  },
  {
   "cell_type": "code",
   "execution_count": 85,
   "metadata": {},
   "outputs": [
    {
     "data": {
      "text/plain": [
       "array([[ 60.65282269],\n",
       "       [ 69.76285115],\n",
       "       [ 94.5574391 ],\n",
       "       [ 96.24416704],\n",
       "       [ 57.71716293],\n",
       "       [ 55.46056356],\n",
       "       [ 67.06971855],\n",
       "       [ 72.41632098],\n",
       "       [ 61.88256814],\n",
       "       [ 89.69329538],\n",
       "       [ 94.65433504],\n",
       "       [ 69.76285115],\n",
       "       [ 64.19135295],\n",
       "       [ 68.41611609],\n",
       "       [ 54.73533434],\n",
       "       [ 96.14594331],\n",
       "       [ 59.72730716],\n",
       "       [ 97.95691035],\n",
       "       [ 94.65433504],\n",
       "       [ 71.43676575],\n",
       "       [ 94.65433504],\n",
       "       [ 98.9095536 ],\n",
       "       [ 67.7715268 ],\n",
       "       [ 67.2799993 ],\n",
       "       [ 85.28663898],\n",
       "       [ 60.04456088],\n",
       "       [ 52.18010903],\n",
       "       [ 93.02822542],\n",
       "       [ 64.30936338],\n",
       "       [ 66.82717124],\n",
       "       [140.15999158],\n",
       "       [ 96.55504922],\n",
       "       [ 94.65433504],\n",
       "       [ 91.62812679],\n",
       "       [ 99.05661991],\n",
       "       [ 96.29768537],\n",
       "       [ 88.67931048],\n",
       "       [ 91.62812679],\n",
       "       [ 59.37055537],\n",
       "       [ 67.06971855],\n",
       "       [ 89.14419221],\n",
       "       [ 88.67931048],\n",
       "       [ 50.84812176],\n",
       "       [ 91.82092936],\n",
       "       [ 57.71716293],\n",
       "       [138.88563962],\n",
       "       [ 93.45568102],\n",
       "       [110.17624257],\n",
       "       [ 96.29768537],\n",
       "       [ 97.95691035],\n",
       "       [100.09510489],\n",
       "       [ 94.5574391 ],\n",
       "       [144.1458608 ],\n",
       "       [ 59.14590367],\n",
       "       [ 92.0378045 ],\n",
       "       [ 84.76710586],\n",
       "       [ 93.70905082],\n",
       "       [ 41.90241258],\n",
       "       [ 64.01865719],\n",
       "       [ 66.82717124],\n",
       "       [136.15136262],\n",
       "       [ 96.14594331],\n",
       "       [ 62.53718963],\n",
       "       [ 93.188084  ],\n",
       "       [ 66.82717124],\n",
       "       [ 87.2174166 ],\n",
       "       [ 67.06971855],\n",
       "       [ 92.23908722],\n",
       "       [ 90.34724446],\n",
       "       [127.259522  ],\n",
       "       [ 94.65433504],\n",
       "       [ 89.69329538],\n",
       "       [ 93.188084  ],\n",
       "       [ 46.72933544],\n",
       "       [ 89.69329538],\n",
       "       [ 94.5574391 ],\n",
       "       [ 93.45568102],\n",
       "       [ 54.73533434],\n",
       "       [ 67.06971855],\n",
       "       [ 60.16443178],\n",
       "       [110.17624257],\n",
       "       [ 70.84827395],\n",
       "       [ 66.82717124],\n",
       "       [ 94.45276769],\n",
       "       [ 96.14594331],\n",
       "       [ 82.59346509],\n",
       "       [ 87.78024074],\n",
       "       [138.88563962],\n",
       "       [ 94.50111415],\n",
       "       [ 64.30936338],\n",
       "       [ 64.30936338],\n",
       "       [ 87.2174166 ],\n",
       "       [ 92.0378045 ],\n",
       "       [ 96.29768537],\n",
       "       [ 60.16443178],\n",
       "       [126.98987315],\n",
       "       [ 94.65433504],\n",
       "       [ 89.69329538],\n",
       "       [ 67.06971855],\n",
       "       [ 87.45546304],\n",
       "       [ 91.62812679],\n",
       "       [ 90.60258336],\n",
       "       [ 67.06971855],\n",
       "       [ 96.14594331],\n",
       "       [ 57.56657031],\n",
       "       [ 91.62812679],\n",
       "       [ 88.67931048],\n",
       "       [ 99.15364689],\n",
       "       [ 70.84827395],\n",
       "       [ 94.45276769],\n",
       "       [ 61.68575233],\n",
       "       [ 85.12226809],\n",
       "       [ 94.45276769],\n",
       "       [ 67.7715268 ],\n",
       "       [ 84.76710586],\n",
       "       [ 99.15364689],\n",
       "       [ 74.00438003],\n",
       "       [ 57.14652757],\n",
       "       [ 89.14419221],\n",
       "       [ 56.90655678],\n",
       "       [ 85.88066637],\n",
       "       [ 89.69329538],\n",
       "       [ 92.23908722],\n",
       "       [ 47.24485955],\n",
       "       [ 69.9474242 ],\n",
       "       [ 80.51544603],\n",
       "       [ 92.0378045 ],\n",
       "       [141.02094961],\n",
       "       [ 96.14594331],\n",
       "       [ 91.36986307],\n",
       "       [ 93.70905082],\n",
       "       [ 89.69329538],\n",
       "       [ 88.72051926],\n",
       "       [ 98.81824588],\n",
       "       [ 62.14625719],\n",
       "       [ 94.45276769],\n",
       "       [ 59.37055537],\n",
       "       [ 50.84812176],\n",
       "       [101.27462103],\n",
       "       [ 94.5574391 ],\n",
       "       [ 88.67931048],\n",
       "       [ 59.37055537],\n",
       "       [ 94.5574391 ],\n",
       "       [144.1458608 ],\n",
       "       [ 99.84078247],\n",
       "       [ 67.06971855],\n",
       "       [ 94.65433504],\n",
       "       [ 70.84827395],\n",
       "       [ 99.15364689],\n",
       "       [141.02094961],\n",
       "       [ 96.55504922],\n",
       "       [ 87.45546304],\n",
       "       [ 63.91113769],\n",
       "       [ 66.82717124],\n",
       "       [ 85.99341185],\n",
       "       [141.02094961],\n",
       "       [ 99.05661991],\n",
       "       [ 88.72051926],\n",
       "       [ 94.5574391 ],\n",
       "       [ 96.55504922],\n",
       "       [138.88563962],\n",
       "       [ 63.91113769],\n",
       "       [ 71.43676575],\n",
       "       [ 71.43676575],\n",
       "       [ 96.14594331],\n",
       "       [ 94.65433504],\n",
       "       [ 94.45276769],\n",
       "       [138.21045317],\n",
       "       [ 67.87494537],\n",
       "       [ 67.7715268 ],\n",
       "       [142.24111329],\n",
       "       [ 96.55504922],\n",
       "       [ 58.83607867],\n",
       "       [125.60989482],\n",
       "       [ 88.67931048],\n",
       "       [ 69.76285115],\n",
       "       [ 96.55504922],\n",
       "       [ 58.16071274],\n",
       "       [ 93.45568102],\n",
       "       [ 61.83844953],\n",
       "       [ 96.55504922],\n",
       "       [ 94.65433504],\n",
       "       [ 74.00438003],\n",
       "       [ 96.29768537],\n",
       "       [ 94.65433504],\n",
       "       [ 89.69329538],\n",
       "       [ 89.69329538],\n",
       "       [ 88.67931048],\n",
       "       [ 72.41632098],\n",
       "       [142.24111329],\n",
       "       [ 67.7715268 ],\n",
       "       [ 93.76982776],\n",
       "       [ 57.25921788],\n",
       "       [ 91.82092936],\n",
       "       [158.46203322],\n",
       "       [ 54.21455043],\n",
       "       [ 96.29768537],\n",
       "       [ 59.87382674],\n",
       "       [ 56.117387  ],\n",
       "       [ 67.06971855],\n",
       "       [ 71.43676575],\n",
       "       [ 91.82092936],\n",
       "       [ 91.6840322 ],\n",
       "       [ 57.03858154],\n",
       "       [ 96.14594331],\n",
       "       [ 63.43070353],\n",
       "       [ 90.34724446],\n",
       "       [142.24111329],\n",
       "       [ 94.65433504],\n",
       "       [ 56.117387  ],\n",
       "       [ 64.01865719],\n",
       "       [109.61398471],\n",
       "       [ 96.29768537],\n",
       "       [136.15136262],\n",
       "       [ 92.0378045 ],\n",
       "       [ 96.55504922],\n",
       "       [157.34524647],\n",
       "       [ 64.01865719],\n",
       "       [ 59.87382674],\n",
       "       [ 92.28376383],\n",
       "       [ 86.50106391],\n",
       "       [ 90.48531584],\n",
       "       [109.16515168],\n",
       "       [ 89.71502643],\n",
       "       [ 88.72051926],\n",
       "       [ 70.84827395],\n",
       "       [ 94.45276769],\n",
       "       [140.15999158],\n",
       "       [ 92.23908722],\n",
       "       [ 82.59346509],\n",
       "       [ 60.16443178],\n",
       "       [ 88.67931048],\n",
       "       [ 70.84827395],\n",
       "       [142.24111329],\n",
       "       [ 96.55504922],\n",
       "       [138.88563962],\n",
       "       [ 71.01546589],\n",
       "       [ 89.14096995],\n",
       "       [ 82.59346509],\n",
       "       [ 96.02902938],\n",
       "       [ 93.02822542],\n",
       "       [109.61398471],\n",
       "       [ 64.19135295],\n",
       "       [ 99.15364689],\n",
       "       [ 89.71502643],\n",
       "       [ 71.37183071],\n",
       "       [ 99.66666456],\n",
       "       [ 96.55504922],\n",
       "       [ 91.62812679],\n",
       "       [ 89.14419221],\n",
       "       [ 68.41611609],\n",
       "       [ 92.0378045 ],\n",
       "       [ 96.29768537],\n",
       "       [ 88.67931048],\n",
       "       [ 96.24416704],\n",
       "       [ 96.14594331],\n",
       "       [ 94.65433504],\n",
       "       [ 59.87382674],\n",
       "       [ 85.4014637 ],\n",
       "       [ 91.6840322 ],\n",
       "       [141.02094961],\n",
       "       [ 96.29768537],\n",
       "       [ 99.05661991],\n",
       "       [ 98.9095536 ],\n",
       "       [ 67.2799993 ],\n",
       "       [ 58.83607867],\n",
       "       [ 94.65433504],\n",
       "       [ 96.55504922],\n",
       "       [ 96.14594331],\n",
       "       [ 89.69329538],\n",
       "       [ 84.76710586],\n",
       "       [138.21045317],\n",
       "       [ 67.06971855],\n",
       "       [ 89.14419221],\n",
       "       [ 93.02822542],\n",
       "       [ 62.53718963],\n",
       "       [ 52.4321559 ],\n",
       "       [ 99.66666456],\n",
       "       [120.90013837],\n",
       "       [ 67.7715268 ],\n",
       "       [ 69.9474242 ],\n",
       "       [ 98.9095536 ],\n",
       "       [ 88.67931048],\n",
       "       [ 99.66666456],\n",
       "       [ 96.29768537],\n",
       "       [ 60.16443178],\n",
       "       [ 96.24416704],\n",
       "       [ 93.45568102],\n",
       "       [ 85.99341185],\n",
       "       [ 74.11570515],\n",
       "       [138.88563962],\n",
       "       [ 68.41611609],\n",
       "       [144.1458608 ],\n",
       "       [ 98.9095536 ],\n",
       "       [ 90.34724446],\n",
       "       [109.16515168],\n",
       "       [ 93.188084  ],\n",
       "       [ 97.95691035],\n",
       "       [142.24111329],\n",
       "       [ 85.28663898],\n",
       "       [ 94.65433504],\n",
       "       [ 94.50111415],\n",
       "       [ 58.89946888],\n",
       "       [ 94.65433504],\n",
       "       [ 66.52140406],\n",
       "       [ 96.14594331],\n",
       "       [ 91.36986307],\n",
       "       [ 96.02902938],\n",
       "       [ 87.2174166 ],\n",
       "       [ 64.30936338],\n",
       "       [ 61.88256814],\n",
       "       [ 74.88566478],\n",
       "       [ 85.4014637 ],\n",
       "       [ 69.76285115],\n",
       "       [ 87.45546304],\n",
       "       [ 93.188084  ],\n",
       "       [ 67.7715268 ],\n",
       "       [ 96.14594331],\n",
       "       [ 67.06971855],\n",
       "       [ 94.65433504],\n",
       "       [ 92.28376383],\n",
       "       [ 51.90485662],\n",
       "       [ 96.14594331],\n",
       "       [ 96.14594331],\n",
       "       [ 89.69329538],\n",
       "       [ 97.95691035],\n",
       "       [142.24111329],\n",
       "       [ 94.65433504],\n",
       "       [153.01466385],\n",
       "       [ 70.84827395],\n",
       "       [ 96.29768537],\n",
       "       [ 88.67931048],\n",
       "       [ 52.18010903],\n",
       "       [101.27462103],\n",
       "       [ 91.6840322 ],\n",
       "       [ 94.65433504],\n",
       "       [ 56.90655678],\n",
       "       [ 80.02014657],\n",
       "       [ 82.90310718],\n",
       "       [ 74.00438003],\n",
       "       [136.48849626],\n",
       "       [ 63.43070353],\n",
       "       [ 88.67931048],\n",
       "       [ 96.14594331],\n",
       "       [ 92.0378045 ],\n",
       "       [ 63.43070353],\n",
       "       [144.1458608 ],\n",
       "       [ 96.55504922],\n",
       "       [ 93.76982776],\n",
       "       [140.35257499],\n",
       "       [ 69.76285115],\n",
       "       [ 96.14594331],\n",
       "       [ 94.50111415],\n",
       "       [ 52.78857177],\n",
       "       [138.88563962],\n",
       "       [ 67.2799993 ],\n",
       "       [ 70.84827395],\n",
       "       [ 93.05070619],\n",
       "       [ 96.55504922],\n",
       "       [ 96.14594331],\n",
       "       [ 99.15364689],\n",
       "       [ 53.54394771],\n",
       "       [ 85.99341185],\n",
       "       [140.35257499],\n",
       "       [ 94.65433504],\n",
       "       [ 78.69868995],\n",
       "       [ 82.59346509],\n",
       "       [ 94.65433504],\n",
       "       [ 94.65433504],\n",
       "       [ 67.7715268 ],\n",
       "       [138.88563962],\n",
       "       [ 88.67931048],\n",
       "       [ 94.5574391 ],\n",
       "       [ 88.67931048],\n",
       "       [ 71.37183071],\n",
       "       [120.90013837],\n",
       "       [ 96.29768537],\n",
       "       [ 88.67931048],\n",
       "       [ 89.69329538],\n",
       "       [ 86.65039703],\n",
       "       [ 66.82717124],\n",
       "       [ 78.69868995],\n",
       "       [ 96.14594331],\n",
       "       [ 58.89946888],\n",
       "       [136.15136262],\n",
       "       [ 93.70905082],\n",
       "       [ 92.28376383],\n",
       "       [ 96.14594331],\n",
       "       [ 91.62812679],\n",
       "       [ 91.36986307],\n",
       "       [ 72.41632098],\n",
       "       [138.88563962],\n",
       "       [ 99.05661991],\n",
       "       [ 67.87494537],\n",
       "       [ 94.65433504],\n",
       "       [ 46.02185801],\n",
       "       [136.48849626],\n",
       "       [ 93.188084  ],\n",
       "       [ 69.76285115],\n",
       "       [ 85.4014637 ],\n",
       "       [ 99.84078247],\n",
       "       [ 93.70905082],\n",
       "       [ 56.117387  ],\n",
       "       [ 91.62812679],\n",
       "       [ 67.2799993 ],\n",
       "       [ 94.65433504],\n",
       "       [ 96.14594331],\n",
       "       [ 93.70905082],\n",
       "       [ 98.50449896],\n",
       "       [ 89.71502643],\n",
       "       [ 69.76285115],\n",
       "       [ 96.55504922],\n",
       "       [ 89.69329538],\n",
       "       [ 91.62812679],\n",
       "       [ 87.45546304],\n",
       "       [ 96.29768537],\n",
       "       [140.15999158],\n",
       "       [ 59.04138518],\n",
       "       [135.17739225],\n",
       "       [ 94.45276769],\n",
       "       [ 74.11570515],\n",
       "       [ 60.65282269],\n",
       "       [138.88563962],\n",
       "       [135.17739225],\n",
       "       [ 71.43676575],\n",
       "       [136.15136262],\n",
       "       [ 66.82717124],\n",
       "       [101.27462103],\n",
       "       [ 98.53560839],\n",
       "       [ 87.45546304],\n",
       "       [ 89.69329538],\n",
       "       [ 52.4321559 ],\n",
       "       [ 59.72730716],\n",
       "       [ 93.45568102],\n",
       "       [ 93.70905082],\n",
       "       [ 59.37055537],\n",
       "       [142.24111329],\n",
       "       [ 53.54394771],\n",
       "       [110.17624257],\n",
       "       [ 93.70905082],\n",
       "       [ 63.43070353],\n",
       "       [138.88563962],\n",
       "       [ 56.90655678],\n",
       "       [ 91.6840322 ],\n",
       "       [ 89.69329538],\n",
       "       [ 76.37891464],\n",
       "       [ 88.67931048],\n",
       "       [136.15136262],\n",
       "       [ 98.9095536 ],\n",
       "       [ 93.76982776],\n",
       "       [ 97.95691035],\n",
       "       [136.15136262],\n",
       "       [ 98.9095536 ],\n",
       "       [ 96.29768537],\n",
       "       [ 72.41632098],\n",
       "       [ 93.188084  ],\n",
       "       [ 55.46056356],\n",
       "       [ 69.9474242 ],\n",
       "       [ 94.65433504],\n",
       "       [ 94.45276769],\n",
       "       [ 92.28376383],\n",
       "       [ 76.37891464],\n",
       "       [ 94.65433504],\n",
       "       [ 96.14594331],\n",
       "       [142.24111329],\n",
       "       [109.16515168],\n",
       "       [ 99.15364689],\n",
       "       [ 66.82717124],\n",
       "       [ 93.188084  ],\n",
       "       [ 94.65433504],\n",
       "       [ 71.43676575],\n",
       "       [144.1458608 ],\n",
       "       [ 84.76710586],\n",
       "       [109.61398471],\n",
       "       [ 85.28663898],\n",
       "       [ 99.84078247],\n",
       "       [ 41.90241258],\n",
       "       [ 68.41611609],\n",
       "       [ 91.62812679],\n",
       "       [ 98.9095536 ],\n",
       "       [ 89.14419221],\n",
       "       [ 98.53560839],\n",
       "       [138.21045317],\n",
       "       [ 89.69329538],\n",
       "       [ 96.24416704],\n",
       "       [158.46203322],\n",
       "       [107.98011204],\n",
       "       [136.48849626],\n",
       "       [ 67.06971855],\n",
       "       [ 93.02822542],\n",
       "       [ 93.48369779],\n",
       "       [ 86.50106391],\n",
       "       [ 41.90241258],\n",
       "       [ 94.65433504],\n",
       "       [ 96.24416704],\n",
       "       [ 84.76710586],\n",
       "       [ 57.37320677],\n",
       "       [ 59.37055537],\n",
       "       [ 71.37183071],\n",
       "       [ 60.04456088],\n",
       "       [ 86.50106391],\n",
       "       [ 86.65039703],\n",
       "       [ 96.02902938],\n",
       "       [ 67.7715268 ],\n",
       "       [141.02094961],\n",
       "       [ 85.88066637],\n",
       "       [ 94.65433504],\n",
       "       [ 96.14594331],\n",
       "       [ 80.51544603],\n",
       "       [ 87.77788325],\n",
       "       [ 91.36986307],\n",
       "       [ 93.76982776],\n",
       "       [ 91.82092936],\n",
       "       [ 99.84078247],\n",
       "       [ 89.71502643],\n",
       "       [141.02094961],\n",
       "       [ 91.62812679],\n",
       "       [ 85.10460554],\n",
       "       [ 80.51544603],\n",
       "       [157.34524647],\n",
       "       [ 93.48369779],\n",
       "       [ 62.53718963],\n",
       "       [ 91.6840322 ],\n",
       "       [ 96.14594331],\n",
       "       [ 93.45568102],\n",
       "       [ 94.5574391 ],\n",
       "       [ 89.69329538],\n",
       "       [ 69.76285115],\n",
       "       [ 94.65433504],\n",
       "       [ 71.37183071],\n",
       "       [ 67.06971855],\n",
       "       [ 82.90310718],\n",
       "       [ 92.23908722],\n",
       "       [ 46.02185801],\n",
       "       [ 96.29768537],\n",
       "       [ 92.23908722],\n",
       "       [ 64.01865719],\n",
       "       [ 74.00438003],\n",
       "       [ 94.50111415],\n",
       "       [ 89.69329538],\n",
       "       [ 85.28663898],\n",
       "       [127.259522  ],\n",
       "       [ 99.05661991],\n",
       "       [ 69.9474242 ],\n",
       "       [ 74.00438003],\n",
       "       [ 93.45568102],\n",
       "       [ 71.43676575],\n",
       "       [ 93.45568102],\n",
       "       [ 94.45276769],\n",
       "       [ 92.28376383],\n",
       "       [ 85.4014637 ],\n",
       "       [126.98987315],\n",
       "       [138.88563962],\n",
       "       [ 93.76982776],\n",
       "       [ 58.97676692],\n",
       "       [ 72.41632098],\n",
       "       [ 94.45276769],\n",
       "       [ 93.76982776],\n",
       "       [ 93.48369779],\n",
       "       [ 82.4345649 ],\n",
       "       [ 64.19135295],\n",
       "       [119.06325389],\n",
       "       [ 96.14594331],\n",
       "       [ 85.28663898],\n",
       "       [ 93.76982776],\n",
       "       [ 61.68575233],\n",
       "       [ 94.65433504],\n",
       "       [ 96.55504922],\n",
       "       [107.36136627],\n",
       "       [ 76.37891464],\n",
       "       [ 92.23908722],\n",
       "       [ 54.11272807],\n",
       "       [140.15999158],\n",
       "       [ 82.59346509],\n",
       "       [141.02094961],\n",
       "       [ 89.69329538],\n",
       "       [ 94.65433504],\n",
       "       [ 93.188084  ],\n",
       "       [ 84.76710586],\n",
       "       [ 58.97676692],\n",
       "       [ 91.6840322 ],\n",
       "       [ 94.65433504],\n",
       "       [ 96.29768537],\n",
       "       [ 99.15364689],\n",
       "       [ 89.14419221],\n",
       "       [ 90.36167344],\n",
       "       [ 63.43070353],\n",
       "       [ 94.65433504],\n",
       "       [138.21045317],\n",
       "       [117.11429389],\n",
       "       [ 94.65433504],\n",
       "       [ 93.38795379],\n",
       "       [ 96.29768537],\n",
       "       [ 69.76285115],\n",
       "       [ 85.99341185],\n",
       "       [ 74.00438003],\n",
       "       [ 96.14594331],\n",
       "       [ 71.43676575],\n",
       "       [141.02094961],\n",
       "       [ 96.55504922],\n",
       "       [ 91.82092936],\n",
       "       [ 50.12942224],\n",
       "       [ 91.62812679],\n",
       "       [ 66.82717124],\n",
       "       [ 99.15364689],\n",
       "       [ 71.43676575],\n",
       "       [140.35257499],\n",
       "       [ 51.90485662],\n",
       "       [138.21045317],\n",
       "       [ 69.9474242 ],\n",
       "       [ 56.90655678],\n",
       "       [ 66.52140406],\n",
       "       [ 89.69329538],\n",
       "       [ 94.45276769],\n",
       "       [ 88.72051926],\n",
       "       [ 72.41632098],\n",
       "       [ 89.69329538],\n",
       "       [ 89.71502643],\n",
       "       [ 96.55504922],\n",
       "       [ 96.29768537],\n",
       "       [ 94.45276769],\n",
       "       [ 43.86784869],\n",
       "       [ 96.55504922],\n",
       "       [ 82.59346509],\n",
       "       [ 96.14594331],\n",
       "       [ 89.69329538],\n",
       "       [ 62.42731605],\n",
       "       [ 84.76710586],\n",
       "       [ 54.73533434],\n",
       "       [ 70.84827395],\n",
       "       [ 93.76982776],\n",
       "       [138.21045317],\n",
       "       [ 63.91113769],\n",
       "       [ 93.02822542],\n",
       "       [ 92.23908722],\n",
       "       [ 96.14594331],\n",
       "       [ 77.56457275],\n",
       "       [ 80.51544603],\n",
       "       [ 96.29768537],\n",
       "       [ 94.65433504],\n",
       "       [105.8786372 ],\n",
       "       [ 96.14594331],\n",
       "       [ 96.29768537],\n",
       "       [ 93.70905082],\n",
       "       [ 69.9474242 ],\n",
       "       [ 96.55504922],\n",
       "       [ 94.45276769],\n",
       "       [ 85.4014637 ],\n",
       "       [ 86.65039703],\n",
       "       [ 61.68575233],\n",
       "       [ 94.65433504],\n",
       "       [ 62.53718963],\n",
       "       [ 92.0378045 ],\n",
       "       [ 59.87382674],\n",
       "       [ 85.99341185],\n",
       "       [ 96.55504922],\n",
       "       [ 96.29768537],\n",
       "       [ 87.45546304],\n",
       "       [ 94.65433504],\n",
       "       [ 89.14419221],\n",
       "       [ 92.28376383],\n",
       "       [136.48849626],\n",
       "       [ 88.47728496],\n",
       "       [ 43.86784869],\n",
       "       [ 66.52140406],\n",
       "       [ 94.65433504],\n",
       "       [ 47.24485955],\n",
       "       [ 89.69329538]])"
      ]
     },
     "execution_count": 85,
     "metadata": {},
     "output_type": "execute_result"
    }
   ],
   "source": [
    "# checking array of predeicted values\n",
    "y_predicted"
   ]
  },
  {
   "cell_type": "code",
   "execution_count": 86,
   "metadata": {},
   "outputs": [
    {
     "data": {
      "text/html": [
       "<div>\n",
       "<style scoped>\n",
       "    .dataframe tbody tr th:only-of-type {\n",
       "        vertical-align: middle;\n",
       "    }\n",
       "\n",
       "    .dataframe tbody tr th {\n",
       "        vertical-align: top;\n",
       "    }\n",
       "\n",
       "    .dataframe thead th {\n",
       "        text-align: right;\n",
       "    }\n",
       "</style>\n",
       "<table border=\"1\" class=\"dataframe\">\n",
       "  <thead>\n",
       "    <tr style=\"text-align: right;\">\n",
       "      <th></th>\n",
       "      <th>Actual</th>\n",
       "      <th>Predicted</th>\n",
       "    </tr>\n",
       "  </thead>\n",
       "  <tbody>\n",
       "    <tr>\n",
       "      <th>0</th>\n",
       "      <td>185.67</td>\n",
       "      <td>60.652823</td>\n",
       "    </tr>\n",
       "    <tr>\n",
       "      <th>1</th>\n",
       "      <td>0.00</td>\n",
       "      <td>69.762851</td>\n",
       "    </tr>\n",
       "    <tr>\n",
       "      <th>2</th>\n",
       "      <td>0.00</td>\n",
       "      <td>94.557439</td>\n",
       "    </tr>\n",
       "    <tr>\n",
       "      <th>3</th>\n",
       "      <td>84.42</td>\n",
       "      <td>96.244167</td>\n",
       "    </tr>\n",
       "    <tr>\n",
       "      <th>4</th>\n",
       "      <td>13.99</td>\n",
       "      <td>57.717163</td>\n",
       "    </tr>\n",
       "    <tr>\n",
       "      <th>5</th>\n",
       "      <td>131.86</td>\n",
       "      <td>55.460564</td>\n",
       "    </tr>\n",
       "    <tr>\n",
       "      <th>6</th>\n",
       "      <td>83.94</td>\n",
       "      <td>67.069719</td>\n",
       "    </tr>\n",
       "    <tr>\n",
       "      <th>7</th>\n",
       "      <td>0.00</td>\n",
       "      <td>72.416321</td>\n",
       "    </tr>\n",
       "    <tr>\n",
       "      <th>8</th>\n",
       "      <td>4.85</td>\n",
       "      <td>61.882568</td>\n",
       "    </tr>\n",
       "    <tr>\n",
       "      <th>9</th>\n",
       "      <td>0.00</td>\n",
       "      <td>89.693295</td>\n",
       "    </tr>\n",
       "    <tr>\n",
       "      <th>10</th>\n",
       "      <td>3.24</td>\n",
       "      <td>94.654335</td>\n",
       "    </tr>\n",
       "    <tr>\n",
       "      <th>11</th>\n",
       "      <td>6.42</td>\n",
       "      <td>69.762851</td>\n",
       "    </tr>\n",
       "    <tr>\n",
       "      <th>12</th>\n",
       "      <td>1.93</td>\n",
       "      <td>64.191353</td>\n",
       "    </tr>\n",
       "    <tr>\n",
       "      <th>13</th>\n",
       "      <td>0.00</td>\n",
       "      <td>68.416116</td>\n",
       "    </tr>\n",
       "    <tr>\n",
       "      <th>14</th>\n",
       "      <td>71.39</td>\n",
       "      <td>54.735334</td>\n",
       "    </tr>\n",
       "    <tr>\n",
       "      <th>15</th>\n",
       "      <td>2.57</td>\n",
       "      <td>96.145943</td>\n",
       "    </tr>\n",
       "    <tr>\n",
       "      <th>16</th>\n",
       "      <td>186.72</td>\n",
       "      <td>59.727307</td>\n",
       "    </tr>\n",
       "    <tr>\n",
       "      <th>17</th>\n",
       "      <td>2.12</td>\n",
       "      <td>97.956910</td>\n",
       "    </tr>\n",
       "    <tr>\n",
       "      <th>18</th>\n",
       "      <td>38.80</td>\n",
       "      <td>94.654335</td>\n",
       "    </tr>\n",
       "    <tr>\n",
       "      <th>19</th>\n",
       "      <td>9.07</td>\n",
       "      <td>71.436766</td>\n",
       "    </tr>\n",
       "  </tbody>\n",
       "</table>\n",
       "</div>"
      ],
      "text/plain": [
       "    Actual  Predicted\n",
       "0   185.67  60.652823\n",
       "1     0.00  69.762851\n",
       "2     0.00  94.557439\n",
       "3    84.42  96.244167\n",
       "4    13.99  57.717163\n",
       "5   131.86  55.460564\n",
       "6    83.94  67.069719\n",
       "7     0.00  72.416321\n",
       "8     4.85  61.882568\n",
       "9     0.00  89.693295\n",
       "10    3.24  94.654335\n",
       "11    6.42  69.762851\n",
       "12    1.93  64.191353\n",
       "13    0.00  68.416116\n",
       "14   71.39  54.735334\n",
       "15    2.57  96.145943\n",
       "16  186.72  59.727307\n",
       "17    2.12  97.956910\n",
       "18   38.80  94.654335\n",
       "19    9.07  71.436766"
      ]
     },
     "execution_count": 86,
     "metadata": {},
     "output_type": "execute_result"
    }
   ],
   "source": [
    "# Creating a dataframe comparing the actual and predicted values of y\n",
    "data = pd.DataFrame({'Actual': y_test.flatten(), 'Predicted': y_predicted.flatten()})\n",
    "data.head(20)"
   ]
  },
  {
   "cell_type": "markdown",
   "metadata": {},
   "source": [
    "As we compared above the actual values with the predicted values by the model, we can also see that the values are not even close.\n",
    "Also the summary statistic and the chart where we put our regression line over the test dataset provide an obvious result, that the model is not a good fit. We cannot validate our hypothesis that the higher income a country has, the higher drug consumption is present in the country. There must be a more complex combination of factors that would explain the difference in the amount of drug usage between countries in Europe.\n",
    "\n",
    "We have on the other side some bias in our data: although we have quite many observations (over 2000), the data does not cover all European countries, we could get a better overview of the relationship of the two variables if we had data from all European countrie(or at least most of them). In this analysis we also did not differentiate between the different metabolites, but if we did, we would have a significantly smaller dataset which causes further bias in the analysis."
   ]
  },
  {
   "cell_type": "markdown",
   "metadata": {},
   "source": []
  }
 ],
 "metadata": {
  "interpreter": {
   "hash": "37bc9cb481dd76020e77350174e1075615d0c5d54844476f7953063dbc44c26a"
  },
  "kernelspec": {
   "display_name": "Python 3.9.13 64-bit (windows store)",
   "language": "python",
   "name": "python3"
  },
  "language_info": {
   "codemirror_mode": {
    "name": "ipython",
    "version": 3
   },
   "file_extension": ".py",
   "mimetype": "text/x-python",
   "name": "python",
   "nbconvert_exporter": "python",
   "pygments_lexer": "ipython3",
   "version": "3.9.13"
  },
  "orig_nbformat": 4
 },
 "nbformat": 4,
 "nbformat_minor": 2
}
